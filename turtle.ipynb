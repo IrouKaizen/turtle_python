{
 "cells": [
  {
   "cell_type": "code",
   "execution_count": 3,
   "id": "aef37792",
   "metadata": {},
   "outputs": [],
   "source": [
    "from turtle import *\n",
    "from time import sleep"
   ]
  },
  {
   "cell_type": "code",
   "execution_count": null,
   "id": "60175ca0",
   "metadata": {
    "scrolled": true
   },
   "outputs": [],
   "source": [
    "bgcolor(\"black\")\n",
    "t = [Turtle(), Turtle()]\n",
    "x = 6\n",
    "colors = [\"red\", \"yellow\", \"blue\", \"lime\"]\n",
    "for index, i in enumerate(t):\n",
    "\ti.speed(0)\n",
    "\ti.color(\"white\")\n",
    "\ti.shape(\"circle\")\n",
    "\ti.shapesize(0.3)\n",
    "\ti.width(3)\n",
    "\ti.pu()\n",
    "\ti.seth(90)\n",
    "\ti.fd(350)\n",
    "\ti.seth(-180)\n",
    "\ti.pd()\n",
    "t[0].pu()"
   ]
  },
  {
   "cell_type": "code",
   "execution_count": null,
   "id": "697b77cc",
   "metadata": {},
   "outputs": [],
   "source": [
    "delay(0)\n",
    "speed(0)\n",
    "ht()\n",
    "sleep(4)\n",
    "for i in colors:\n",
    "\tcolor(i)\n",
    "\tfor i in range(360):\n",
    "\t\tt[0].fd(x)\n",
    "\t\tt[0].lt(1)\n",
    "\t\tpu()\n",
    "\t\tgoto(t[0].pos())\n",
    "\t\tpd()\n",
    "\t\tt[1].fd(2 * x)\n",
    "\t\tt[1].lt(2)\n",
    "\t\tgoto(t[1].pos())"
   ]
  },
  {
   "cell_type": "code",
   "execution_count": null,
   "id": "5a52f5d9",
   "metadata": {},
   "outputs": [],
   "source": [
    "done()"
   ]
  },
  {
   "cell_type": "code",
   "execution_count": null,
   "id": "2bdd5d58",
   "metadata": {},
   "outputs": [],
   "source": []
  }
 ],
 "metadata": {
  "kernelspec": {
   "display_name": "Python 3",
   "language": "python",
   "name": "python3"
  },
  "language_info": {
   "codemirror_mode": {
    "name": "ipython",
    "version": 3
   },
   "file_extension": ".py",
   "mimetype": "text/x-python",
   "name": "python",
   "nbconvert_exporter": "python",
   "pygments_lexer": "ipython3",
   "version": "3.8.8"
  }
 },
 "nbformat": 4,
 "nbformat_minor": 5
}
